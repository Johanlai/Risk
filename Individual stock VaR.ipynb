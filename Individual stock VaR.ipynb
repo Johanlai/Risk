{
 "cells": [
  {
   "cell_type": "code",
   "execution_count": 16,
   "id": "44945e33",
   "metadata": {},
   "outputs": [],
   "source": [
    "import pandas as pd\n",
    "from pandas_datareader import data as pdr\n",
    "import numpy as np\n",
    "import datetime as dt\n",
    "import matplotlib.pyplot as plt\n",
    "import seaborn as sns\n",
    "sns.set_style(\"whitegrid\")\n",
    "import scipy as scs\n",
    "import scipy.stats as stats\n",
    "import statistics\n",
    "from scipy.stats import norm\n",
    "import math"
   ]
  },
  {
   "cell_type": "code",
   "execution_count": 8,
   "id": "985f9bd7",
   "metadata": {},
   "outputs": [
    {
     "data": {
      "text/html": [
       "<div>\n",
       "<style scoped>\n",
       "    .dataframe tbody tr th:only-of-type {\n",
       "        vertical-align: middle;\n",
       "    }\n",
       "\n",
       "    .dataframe tbody tr th {\n",
       "        vertical-align: top;\n",
       "    }\n",
       "\n",
       "    .dataframe thead th {\n",
       "        text-align: right;\n",
       "    }\n",
       "</style>\n",
       "<table border=\"1\" class=\"dataframe\">\n",
       "  <thead>\n",
       "    <tr style=\"text-align: right;\">\n",
       "      <th>Symbols</th>\n",
       "      <th>close</th>\n",
       "    </tr>\n",
       "  </thead>\n",
       "  <tbody>\n",
       "    <tr>\n",
       "      <th>count</th>\n",
       "      <td>3395.000000</td>\n",
       "    </tr>\n",
       "    <tr>\n",
       "      <th>mean</th>\n",
       "      <td>0.000288</td>\n",
       "    </tr>\n",
       "    <tr>\n",
       "      <th>std</th>\n",
       "      <td>0.029805</td>\n",
       "    </tr>\n",
       "    <tr>\n",
       "      <th>min</th>\n",
       "      <td>-0.342059</td>\n",
       "    </tr>\n",
       "    <tr>\n",
       "      <th>25%</th>\n",
       "      <td>-0.010611</td>\n",
       "    </tr>\n",
       "    <tr>\n",
       "      <th>50%</th>\n",
       "      <td>0.000443</td>\n",
       "    </tr>\n",
       "    <tr>\n",
       "      <th>75%</th>\n",
       "      <td>0.011538</td>\n",
       "    </tr>\n",
       "    <tr>\n",
       "      <th>max</th>\n",
       "      <td>0.302096</td>\n",
       "    </tr>\n",
       "  </tbody>\n",
       "</table>\n",
       "</div>"
      ],
      "text/plain": [
       "Symbols        close\n",
       "count    3395.000000\n",
       "mean        0.000288\n",
       "std         0.029805\n",
       "min        -0.342059\n",
       "25%        -0.010611\n",
       "50%         0.000443\n",
       "75%         0.011538\n",
       "max         0.302096"
      ]
     },
     "execution_count": 8,
     "metadata": {},
     "output_type": "execute_result"
    }
   ],
   "source": [
    "# List the tickers to be retreived\n",
    "tickers = ['BAC']\n",
    "\n",
    "# get close data of the tickers\n",
    "data = pdr.get_data_yahoo(tickers, start=\"2009-01-01\", end=dt.date.today())['Adj Close']\n",
    "\n",
    "# return the natural log of daily changes\n",
    "lnReturns = np.log(data / data.shift(1))[1:]\n",
    "\n",
    "# Rename column for generic script\n",
    "lnReturns = lnReturns.rename(columns={lnReturns.columns[0]:'close'})\n",
    "lnReturns.describe()"
   ]
  },
  {
   "cell_type": "code",
   "execution_count": 9,
   "id": "a0d4a1b8",
   "metadata": {},
   "outputs": [],
   "source": [
    "# Calculate the mean and standard deviations\n",
    "port_mean = sum(lnReturns['close'])/len(lnReturns['close'])\n",
    "port_std = np.std(lnReturns['close'])"
   ]
  },
  {
   "cell_type": "code",
   "execution_count": 13,
   "id": "5b517e20",
   "metadata": {},
   "outputs": [
    {
     "data": {
      "text/plain": [
       "<matplotlib.legend.Legend at 0x1e87d1cc460>"
      ]
     },
     "execution_count": 13,
     "metadata": {},
     "output_type": "execute_result"
    },
    {
     "data": {
      "image/png": "[encoded data removed]",
      "text/plain": [
       "<Figure size 432x288 with 1 Axes>"
      ]
     },
     "metadata": {
      "needs_background": "light"
     },
     "output_type": "display_data"
    }
   ],
   "source": [
    "# plot the logged returns to visuallise and identify any outliers\n",
    "plt.plot(lnReturns)\n",
    "plt.plot(lnReturns['close'], label=tickers[0], color='green')\n",
    "plt.legend()"
   ]
  },
  {
   "cell_type": "code",
   "execution_count": 19,
   "id": "f52b4031",
   "metadata": {},
   "outputs": [
    {
     "data": {
      "text/plain": [
       "Text(-0.3186577070269578, 378.0, 'Kurtosis: [26.1581]')"
      ]
     },
     "execution_count": 19,
     "metadata": {},
     "output_type": "execute_result"
    },
    {
     "data": {
      "image/png": "[encoded data removed]",
      "text/plain": [
       "<Figure size 432x288 with 1 Axes>"
      ]
     },
     "metadata": {},
     "output_type": "display_data"
    }
   ],
   "source": [
    "# Visuallising the logged returns distribution\n",
    "## Histogram\n",
    "hist = plt.hist(lnReturns['close'],bins=100)\n",
    "\n",
    "## Generating the normal curve\n",
    "x = np.linspace(port_mean - 3*port_std, port_mean+3*port_std,1000)\n",
    "\n",
    "## Plotting the comparable normal curve\n",
    "plt.plot(x, scs.stats.norm.pdf(x, port_mean, port_std), \"r\")\n",
    "\n",
    "## *Adjust the scope*\n",
    "plt.axis([float(lnReturns.min()), float(lnReturns.max()), 0, max(hist[0])+(max(hist[0]))/11])\n",
    "\n",
    "## Testing the skew and kurtosis functions\n",
    "#skew = stats.skew(lnReturns, bias=False)\n",
    "#kurtosis = stats.kurtosis(lnReturns, bias=False)\n",
    "#print(' skew: {}'.format(skew),\"\\n\", 'kurtosis: {}'.format(kurtosis))\n",
    "\n",
    "## Adding a mean line\n",
    "plt.plot([port_mean,port_mean],[0,max(hist[0])],color=\"g\",label='mean')\n",
    "\n",
    "## adding skew and kurtosis information to chart // text size and location can be amended but generic ones are attempted\n",
    "plt.text(float(lnReturns.min())+(0.2*float(lnReturns.min())**2),max(hist[0])-(max(hist[0]))/4,'skew: {}'.format(np.round(stats.skew(lnReturns, bias=False),4)), fontsize=15)\n",
    "plt.text(float(lnReturns.min())+(0.2*float(lnReturns.min())**2),max(hist[0])-(max(hist[0]))/3,'Kurtosis: {}'.format(np.round(stats.kurtosis(lnReturns, bias=False),4)), fontsize=15)"
   ]
  },
  {
   "cell_type": "code",
   "execution_count": 31,
   "id": "678874f3",
   "metadata": {},
   "outputs": [
    {
     "name": "stdout",
     "output_type": "stream",
     "text": [
      "The simple historical VaR is        0.08232294587119615\n",
      "Corresponding expected shortfall is 0.08291620056254954\n"
     ]
    }
   ],
   "source": [
    "def compute_var(x, alpha):\n",
    "    return -np.percentile(x, alpha)\n",
    "\n",
    "def compute_es(x, alpha):\n",
    "    x_alpha = -compute_var(x, alpha)\n",
    "    prct = sum(x<=x_alpha)/len(x) \n",
    "    y=x*(x<=x_alpha)\n",
    "    es = -1.0/alpha*(y.mean()+ x_alpha*(alpha-prct))\n",
    "    return es\n",
    "\n",
    "print('The simple historical VaR is        {}'.format(compute_var(lnReturns['close'], 1)))\n",
    "print('Corresponding expected shortfall is {}'.format(compute_es(lnReturns['close'], 1)))"
   ]
  },
  {
   "cell_type": "code",
   "execution_count": 53,
   "id": "1ffc958e",
   "metadata": {},
   "outputs": [
    {
     "data": {
      "text/plain": [
       "Symbols\n",
       "close   -0.00109\n",
       "dtype: float64"
      ]
     },
     "execution_count": 53,
     "metadata": {},
     "output_type": "execute_result"
    }
   ],
   "source": [
    "var = compute_var(lnReturns['close'], 1)\n",
    "es = lnReturns[lnReturns.lt(var, axis=1)].mean()\n",
    "es"
   ]
  },
  {
   "cell_type": "code",
   "execution_count": 36,
   "id": "3f7d1df0",
   "metadata": {},
   "outputs": [],
   "source": [
    "y= x<=-compute_var(lnReturns, 1)"
   ]
  },
  {
   "cell_type": "code",
   "execution_count": 33,
   "id": "7c3c5422",
   "metadata": {},
   "outputs": [
    {
     "data": {
      "text/plain": [
       "-0.3420585121775866"
      ]
     },
     "execution_count": 33,
     "metadata": {},
     "output_type": "execute_result"
    }
   ],
   "source": [
    "min(lnReturns['close'])"
   ]
  },
  {
   "cell_type": "code",
   "execution_count": 38,
   "id": "b937af48",
   "metadata": {},
   "outputs": [
    {
     "data": {
      "text/plain": [
       "0.038"
      ]
     },
     "execution_count": 38,
     "metadata": {},
     "output_type": "execute_result"
    }
   ],
   "source": [
    "y.mean()"
   ]
  },
  {
   "cell_type": "code",
   "execution_count": null,
   "id": "35c8f831",
   "metadata": {},
   "outputs": [],
   "source": []
  }
 ],
 "metadata": {
  "kernelspec": {
   "display_name": "Python 3",
   "language": "python",
   "name": "python3"
  },
  "language_info": {
   "codemirror_mode": {
    "name": "ipython",
    "version": 3
   },
   "file_extension": ".py",
   "mimetype": "text/x-python",
   "name": "python",
   "nbconvert_exporter": "python",
   "pygments_lexer": "ipython3",
   "version": "3.8.8"
  }
 },
 "nbformat": 4,
 "nbformat_minor": 5
}
